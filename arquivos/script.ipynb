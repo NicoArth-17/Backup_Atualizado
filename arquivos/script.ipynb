{
 "cells": [
  {
   "cell_type": "code",
   "execution_count": 61,
   "metadata": {},
   "outputs": [
    {
     "name": "stdout",
     "output_type": "stream",
     "text": [
      "[WindowsPath('C:/Users/mobishopgamer/Documents/Estudo/Hashtag/Python/Apostilas/Apostila Python Impressionador.pdf'), WindowsPath('C:/Users/mobishopgamer/Documents/Estudo/Hashtag/Python/Apostilas/Cartilha Firebase e Python REST API.pdf'), WindowsPath('C:/Users/mobishopgamer/Documents/Estudo/Hashtag/Python/Aulas/Ambientes Virtuais 01.ipynb'), WindowsPath('C:/Users/mobishopgamer/Documents/Estudo/Hashtag/Python/Aulas/API 01.ipynb'), WindowsPath('C:/Users/mobishopgamer/Documents/Estudo/Hashtag/Python/Aulas/API 02.ipynb'), WindowsPath('C:/Users/mobishopgamer/Documents/Estudo/Hashtag/Python/Aulas/API 03.ipynb'), WindowsPath('C:/Users/mobishopgamer/Documents/Estudo/Hashtag/Python/Aulas/API 04.ipynb'), WindowsPath('C:/Users/mobishopgamer/Documents/Estudo/Hashtag/Python/Aulas/API 05.ipynb'), WindowsPath('C:/Users/mobishopgamer/Documents/Estudo/Hashtag/Python/Aulas/API 06.ipynb'), WindowsPath('C:/Users/mobishopgamer/Documents/Estudo/Hashtag/Python/Aulas/API 07.ipynb'), WindowsPath('C:/Users/mobishopgamer/Documents/Estudo/Hashtag/Python/Aulas/API 08.py'), WindowsPath('C:/Users/mobishopgamer/Documents/Estudo/Hashtag/Python/Aulas/ArquivosAulas'), WindowsPath('C:/Users/mobishopgamer/Documents/Estudo/Hashtag/Python/Aulas/BarraDeProgresso.ipynb'), WindowsPath('C:/Users/mobishopgamer/Documents/Estudo/Hashtag/Python/Aulas/CursoEmVideo'), WindowsPath('C:/Users/mobishopgamer/Documents/Estudo/Hashtag/Python/Aulas/Dicionario01.ipynb'), WindowsPath('C:/Users/mobishopgamer/Documents/Estudo/Hashtag/Python/Aulas/Dicionario02.ipynb'), WindowsPath('C:/Users/mobishopgamer/Documents/Estudo/Hashtag/Python/Aulas/Dicionario03.ipynb'), WindowsPath('C:/Users/mobishopgamer/Documents/Estudo/Hashtag/Python/Aulas/Dicionario04.ipynb'), WindowsPath('C:/Users/mobishopgamer/Documents/Estudo/Hashtag/Python/Aulas/Dicionario05.ipynb'), WindowsPath('C:/Users/mobishopgamer/Documents/Estudo/Hashtag/Python/Aulas/Dicionario06.ipynb'), WindowsPath('C:/Users/mobishopgamer/Documents/Estudo/Hashtag/Python/Aulas/Dicionários-Cartilha.ipynb'), WindowsPath('C:/Users/mobishopgamer/Documents/Estudo/Hashtag/Python/Aulas/Email - Ler e Extrair Info.ipynb'), WindowsPath('C:/Users/mobishopgamer/Documents/Estudo/Hashtag/Python/Aulas/Email - Outlook.ipynb'), WindowsPath('C:/Users/mobishopgamer/Documents/Estudo/Hashtag/Python/Aulas/For.ipynb'), WindowsPath('C:/Users/mobishopgamer/Documents/Estudo/Hashtag/Python/Aulas/For01.ipynb'), WindowsPath('C:/Users/mobishopgamer/Documents/Estudo/Hashtag/Python/Aulas/For02.ipynb'), WindowsPath('C:/Users/mobishopgamer/Documents/Estudo/Hashtag/Python/Aulas/For03.ipynb'), WindowsPath('C:/Users/mobishopgamer/Documents/Estudo/Hashtag/Python/Aulas/For04.ipynb'), WindowsPath('C:/Users/mobishopgamer/Documents/Estudo/Hashtag/Python/Aulas/For05.ipynb'), WindowsPath('C:/Users/mobishopgamer/Documents/Estudo/Hashtag/Python/Aulas/Function-Cartilhas Erros.ipynb'), WindowsPath('C:/Users/mobishopgamer/Documents/Estudo/Hashtag/Python/Aulas/Function01.ipynb'), WindowsPath('C:/Users/mobishopgamer/Documents/Estudo/Hashtag/Python/Aulas/Function02.ipynb'), WindowsPath('C:/Users/mobishopgamer/Documents/Estudo/Hashtag/Python/Aulas/Function03.ipynb'), WindowsPath('C:/Users/mobishopgamer/Documents/Estudo/Hashtag/Python/Aulas/Function04.ipynb'), WindowsPath('C:/Users/mobishopgamer/Documents/Estudo/Hashtag/Python/Aulas/Function06.ipynb'), WindowsPath('C:/Users/mobishopgamer/Documents/Estudo/Hashtag/Python/Aulas/Function07.ipynb'), WindowsPath('C:/Users/mobishopgamer/Documents/Estudo/Hashtag/Python/Aulas/Function08.ipynb'), WindowsPath('C:/Users/mobishopgamer/Documents/Estudo/Hashtag/Python/Aulas/Function09.ipynb'), WindowsPath('C:/Users/mobishopgamer/Documents/Estudo/Hashtag/Python/Aulas/Function10.ipynb'), WindowsPath('C:/Users/mobishopgamer/Documents/Estudo/Hashtag/Python/Aulas/Function11.ipynb'), WindowsPath('C:/Users/mobishopgamer/Documents/Estudo/Hashtag/Python/Aulas/Function12.ipynb'), WindowsPath('C:/Users/mobishopgamer/Documents/Estudo/Hashtag/Python/Aulas/Iterable.ipynb'), WindowsPath('C:/Users/mobishopgamer/Documents/Estudo/Hashtag/Python/Aulas/LambdaExpressions 01.ipynb'), WindowsPath('C:/Users/mobishopgamer/Documents/Estudo/Hashtag/Python/Aulas/LambdaExpressions 02.ipynb'), WindowsPath('C:/Users/mobishopgamer/Documents/Estudo/Hashtag/Python/Aulas/LambdaExpressions.ipynb'), WindowsPath('C:/Users/mobishopgamer/Documents/Estudo/Hashtag/Python/Aulas/Lista - Cartilha de Métodos.ipynb'), WindowsPath('C:/Users/mobishopgamer/Documents/Estudo/Hashtag/Python/Aulas/Listas.ipynb'), WindowsPath('C:/Users/mobishopgamer/Documents/Estudo/Hashtag/Python/Aulas/Listas01.ipynb'), WindowsPath('C:/Users/mobishopgamer/Documents/Estudo/Hashtag/Python/Aulas/Listas02.ipynb'), WindowsPath('C:/Users/mobishopgamer/Documents/Estudo/Hashtag/Python/Aulas/Listas03.ipynb'), WindowsPath('C:/Users/mobishopgamer/Documents/Estudo/Hashtag/Python/Aulas/Listas04.ipynb'), WindowsPath('C:/Users/mobishopgamer/Documents/Estudo/Hashtag/Python/Aulas/Listas05.ipynb'), WindowsPath('C:/Users/mobishopgamer/Documents/Estudo/Hashtag/Python/Aulas/Listas06.ipynb'), WindowsPath('C:/Users/mobishopgamer/Documents/Estudo/Hashtag/Python/Aulas/Listas07.ipynb'), WindowsPath('C:/Users/mobishopgamer/Documents/Estudo/Hashtag/Python/Aulas/ListComprehensions-FunctionsEmIterables01.ipynb'), WindowsPath('C:/Users/mobishopgamer/Documents/Estudo/Hashtag/Python/Aulas/ListComprehensions-FunctionsEmIterables02.ipynb'), WindowsPath('C:/Users/mobishopgamer/Documents/Estudo/Hashtag/Python/Aulas/ListComprehensions-FunctionsEmIterables03.ipynb'), WindowsPath('C:/Users/mobishopgamer/Documents/Estudo/Hashtag/Python/Aulas/ListComprehensions-FunctionsEmIterables04.ipynb'), WindowsPath('C:/Users/mobishopgamer/Documents/Estudo/Hashtag/Python/Aulas/ListComprehensions-FunctionsEmIterables05.ipynb'), WindowsPath('C:/Users/mobishopgamer/Documents/Estudo/Hashtag/Python/Aulas/ListComprehensions-FunctionsEmIterables06.ipynb'), WindowsPath('C:/Users/mobishopgamer/Documents/Estudo/Hashtag/Python/Aulas/ListComprehensions-FunctionsEmIterables07.ipynb'), WindowsPath('C:/Users/mobishopgamer/Documents/Estudo/Hashtag/Python/Aulas/Loc e iLoc.ipynb'), WindowsPath('C:/Users/mobishopgamer/Documents/Estudo/Hashtag/Python/Aulas/Openpyxl.ipynb'), WindowsPath('C:/Users/mobishopgamer/Documents/Estudo/Hashtag/Python/Aulas/OrientaçãoObjetos.ipynb'), WindowsPath('C:/Users/mobishopgamer/Documents/Estudo/Hashtag/Python/Aulas/OrientaçãoObjetos01.ipynb'), WindowsPath('C:/Users/mobishopgamer/Documents/Estudo/Hashtag/Python/Aulas/OrientaçãoObjetos02.ipynb'), WindowsPath('C:/Users/mobishopgamer/Documents/Estudo/Hashtag/Python/Aulas/OrientaçãoObjetos03.ipynb'), WindowsPath('C:/Users/mobishopgamer/Documents/Estudo/Hashtag/Python/Aulas/OrientaçãoObjetos04.ipynb'), WindowsPath('C:/Users/mobishopgamer/Documents/Estudo/Hashtag/Python/Aulas/OrientaçãoObjetos05.ipynb'), WindowsPath('C:/Users/mobishopgamer/Documents/Estudo/Hashtag/Python/Aulas/OrientaçãoObjetos06.ipynb'), WindowsPath('C:/Users/mobishopgamer/Documents/Estudo/Hashtag/Python/Aulas/Pandas 01.ipynb'), WindowsPath('C:/Users/mobishopgamer/Documents/Estudo/Hashtag/Python/Aulas/Pandas 02.ipynb'), WindowsPath('C:/Users/mobishopgamer/Documents/Estudo/Hashtag/Python/Aulas/Pandas 03.ipynb'), WindowsPath('C:/Users/mobishopgamer/Documents/Estudo/Hashtag/Python/Aulas/Pandas 04.ipynb'), WindowsPath('C:/Users/mobishopgamer/Documents/Estudo/Hashtag/Python/Aulas/Pandas 05.ipynb'), WindowsPath('C:/Users/mobishopgamer/Documents/Estudo/Hashtag/Python/Aulas/Pandas 06.ipynb'), WindowsPath('C:/Users/mobishopgamer/Documents/Estudo/Hashtag/Python/Aulas/Pandas 07.ipynb'), WindowsPath('C:/Users/mobishopgamer/Documents/Estudo/Hashtag/Python/Aulas/Pandas 08.ipynb'), WindowsPath('C:/Users/mobishopgamer/Documents/Estudo/Hashtag/Python/Aulas/Pandas 09.ipynb'), WindowsPath('C:/Users/mobishopgamer/Documents/Estudo/Hashtag/Python/Aulas/Pandas 10.ipynb'), WindowsPath('C:/Users/mobishopgamer/Documents/Estudo/Hashtag/Python/Aulas/Pathlib - Arquivos do Computador 01.ipynb'), WindowsPath('C:/Users/mobishopgamer/Documents/Estudo/Hashtag/Python/Aulas/Python exe 01.ipynb'), WindowsPath('C:/Users/mobishopgamer/Documents/Estudo/Hashtag/Python/Aulas/Python exe 02.ipynb'), WindowsPath('C:/Users/mobishopgamer/Documents/Estudo/Hashtag/Python/Aulas/Python exe 03.ipynb'), WindowsPath('C:/Users/mobishopgamer/Documents/Estudo/Hashtag/Python/Aulas/Range.ipynb'), WindowsPath('C:/Users/mobishopgamer/Documents/Estudo/Hashtag/Python/Aulas/Regex - Cartilha.ipynb'), WindowsPath('C:/Users/mobishopgamer/Documents/Estudo/Hashtag/Python/Aulas/Regex 01.ipynb'), WindowsPath('C:/Users/mobishopgamer/Documents/Estudo/Hashtag/Python/Aulas/Regex 02.ipynb'), WindowsPath('C:/Users/mobishopgamer/Documents/Estudo/Hashtag/Python/Aulas/Set - Cartilha.ipynb'), WindowsPath('C:/Users/mobishopgamer/Documents/Estudo/Hashtag/Python/Aulas/Set.ipynb'), WindowsPath('C:/Users/mobishopgamer/Documents/Estudo/Hashtag/Python/Aulas/SQL 01.ipynb'), WindowsPath('C:/Users/mobishopgamer/Documents/Estudo/Hashtag/Python/Aulas/SQL 02.ipynb'), WindowsPath('C:/Users/mobishopgamer/Documents/Estudo/Hashtag/Python/Aulas/SQL 03.ipynb'), WindowsPath('C:/Users/mobishopgamer/Documents/Estudo/Hashtag/Python/Aulas/SQL 04-01.ipynb'), WindowsPath('C:/Users/mobishopgamer/Documents/Estudo/Hashtag/Python/Aulas/SQL 04-02.ipynb'), WindowsPath('C:/Users/mobishopgamer/Documents/Estudo/Hashtag/Python/Aulas/SQL 05.ipynb'), WindowsPath('C:/Users/mobishopgamer/Documents/Estudo/Hashtag/Python/Aulas/SQL 06.ipynb'), WindowsPath('C:/Users/mobishopgamer/Documents/Estudo/Hashtag/Python/Aulas/String 1 - Aula Fórmulas de Texto.ipynb'), WindowsPath('C:/Users/mobishopgamer/Documents/Estudo/Hashtag/Python/Aulas/String 2 - Formatar.ipynb'), WindowsPath('C:/Users/mobishopgamer/Documents/Estudo/Hashtag/Python/Aulas/String.ipynb'), WindowsPath('C:/Users/mobishopgamer/Documents/Estudo/Hashtag/Python/Aulas/Tupla03.ipynb'), WindowsPath('C:/Users/mobishopgamer/Documents/Estudo/Hashtag/Python/Aulas/Tuplas01.ipynb'), WindowsPath('C:/Users/mobishopgamer/Documents/Estudo/Hashtag/Python/Aulas/Tuplas02.ipynb'), WindowsPath('C:/Users/mobishopgamer/Documents/Estudo/Hashtag/Python/Aulas/Web - Selenium 01.ipynb'), WindowsPath('C:/Users/mobishopgamer/Documents/Estudo/Hashtag/Python/Aulas/Web - Selenium 02.ipynb'), WindowsPath('C:/Users/mobishopgamer/Documents/Estudo/Hashtag/Python/Aulas/Web - Selenium 03.ipynb'), WindowsPath('C:/Users/mobishopgamer/Documents/Estudo/Hashtag/Python/Aulas/Web - Selenium 04.ipynb'), WindowsPath('C:/Users/mobishopgamer/Documents/Estudo/Hashtag/Python/Aulas/Web - Selenium 05.ipynb'), WindowsPath('C:/Users/mobishopgamer/Documents/Estudo/Hashtag/Python/Aulas/Web - Selenium 06.ipynb'), WindowsPath('C:/Users/mobishopgamer/Documents/Estudo/Hashtag/Python/Aulas/Web - Selenium 07.ipynb'), WindowsPath('C:/Users/mobishopgamer/Documents/Estudo/Hashtag/Python/Aulas/Web - Selenium 08.ipynb'), WindowsPath('C:/Users/mobishopgamer/Documents/Estudo/Hashtag/Python/Aulas/Web - Selenium 09.ipynb'), WindowsPath('C:/Users/mobishopgamer/Documents/Estudo/Hashtag/Python/Aulas/Web - Selenium 10.ipynb'), WindowsPath('C:/Users/mobishopgamer/Documents/Estudo/Hashtag/Python/Aulas/Web - Selenium 11.ipynb'), WindowsPath('C:/Users/mobishopgamer/Documents/Estudo/Hashtag/Python/Aulas/Web - Selenium 12.ipynb'), WindowsPath('C:/Users/mobishopgamer/Documents/Estudo/Hashtag/Python/Aulas/Web - Selenium 13.ipynb'), WindowsPath('C:/Users/mobishopgamer/Documents/Estudo/Hashtag/Python/Aulas/Web - Selenium 14.ipynb'), WindowsPath('C:/Users/mobishopgamer/Documents/Estudo/Hashtag/Python/Aulas/Web - Selenium 15.ipynb'), WindowsPath('C:/Users/mobishopgamer/Documents/Estudo/Hashtag/Python/Aulas/Web - Selenium 16.ipynb'), WindowsPath('C:/Users/mobishopgamer/Documents/Estudo/Hashtag/Python/Aulas/Web - Selenium 17.ipynb'), WindowsPath('C:/Users/mobishopgamer/Documents/Estudo/Hashtag/Python/Aulas/Web - Selenium 18.ipynb'), WindowsPath('C:/Users/mobishopgamer/Documents/Estudo/Hashtag/Python/Aulas/Web - Selenium 19-gabarito.py'), WindowsPath('C:/Users/mobishopgamer/Documents/Estudo/Hashtag/Python/Aulas/Web - Selenium 19.ipynb'), WindowsPath('C:/Users/mobishopgamer/Documents/Estudo/Hashtag/Python/Aulas/While01.ipynb'), WindowsPath('C:/Users/mobishopgamer/Documents/Estudo/Hashtag/Python/Aulas/While02.ipynb'), WindowsPath('C:/Users/mobishopgamer/Documents/Estudo/Hashtag/Python/Aulas/With.ipynb'), WindowsPath('C:/Users/mobishopgamer/Documents/Estudo/Hashtag/Python/AulasAplicaçoes/EmailProgramado'), WindowsPath('C:/Users/mobishopgamer/Documents/Estudo/Hashtag/Python/AulasAplicaçoes/MercadoFinanceiro'), WindowsPath('C:/Users/mobishopgamer/Documents/Estudo/Hashtag/Python/AulasAplicaçoes/teste.html'), WindowsPath('C:/Users/mobishopgamer/Documents/Estudo/Hashtag/Python/Exercicios/Ex-Mentoria01'), WindowsPath('C:/Users/mobishopgamer/Documents/Estudo/Hashtag/Python/Exercicios/Ex-Mentoria02'), WindowsPath('C:/Users/mobishopgamer/Documents/Estudo/Hashtag/Python/Exercicios/Ex001-PrintInput'), WindowsPath('C:/Users/mobishopgamer/Documents/Estudo/Hashtag/Python/Exercicios/Ex002-Aritimetica'), WindowsPath('C:/Users/mobishopgamer/Documents/Estudo/Hashtag/Python/Exercicios/Ex003-Condiçoes'), WindowsPath('C:/Users/mobishopgamer/Documents/Estudo/Hashtag/Python/Exercicios/Ex004-Strings'), WindowsPath('C:/Users/mobishopgamer/Documents/Estudo/Hashtag/Python/Exercicios/Ex005-Listas'), WindowsPath('C:/Users/mobishopgamer/Documents/Estudo/Hashtag/Python/Exercicios/Ex006-For'), WindowsPath('C:/Users/mobishopgamer/Documents/Estudo/Hashtag/Python/Exercicios/Ex007-While'), WindowsPath('C:/Users/mobishopgamer/Documents/Estudo/Hashtag/Python/Exercicios/Ex008-Tupla'), WindowsPath('C:/Users/mobishopgamer/Documents/Estudo/Hashtag/Python/Exercicios/Ex009-Dicionario'), WindowsPath('C:/Users/mobishopgamer/Documents/Estudo/Hashtag/Python/Exercicios/Ex010-Function'), WindowsPath('C:/Users/mobishopgamer/Documents/Estudo/Hashtag/Python/Exercicios/Ex011-ListComprehension'), WindowsPath('C:/Users/mobishopgamer/Documents/Estudo/Hashtag/Python/Exercicios/Ex012-Pandas'), WindowsPath('C:/Users/mobishopgamer/Documents/Estudo/Hashtag/Python/Exercicios/Ex012-Selenium'), WindowsPath('C:/Users/mobishopgamer/Documents/Estudo/Hashtag/Python/Exercicios/Ex013-Pathlib'), WindowsPath('C:/Users/mobishopgamer/Documents/Estudo/Hashtag/Python/Exercicios/Ex014-Email'), WindowsPath('C:/Users/mobishopgamer/Documents/Estudo/Hashtag/Python/Exercicios/Ex015-SQL'), WindowsPath('C:/Users/mobishopgamer/Documents/Estudo/Hashtag/Python/IntensivãoPython/.vscode'), WindowsPath('C:/Users/mobishopgamer/Documents/Estudo/Hashtag/Python/IntensivãoPython/AnaliseDeDados'), WindowsPath('C:/Users/mobishopgamer/Documents/Estudo/Hashtag/Python/IntensivãoPython/Automaçao'), WindowsPath('C:/Users/mobishopgamer/Documents/Estudo/Hashtag/Python/IntensivãoPython/AutomaçaoWeb'), WindowsPath('C:/Users/mobishopgamer/Documents/Estudo/Hashtag/Python/IntensivãoPython/CienciaDeDados'), WindowsPath('C:/Users/mobishopgamer/Documents/Estudo/Hashtag/Python/IntensivãoPython/ProjetoAnaliseDeDados'), WindowsPath('C:/Users/mobishopgamer/Documents/Estudo/Hashtag/Python/IntensivãoPython/ProjetoAutomaçao'), WindowsPath('C:/Users/mobishopgamer/Documents/Estudo/Hashtag/Python/IntensivãoPython/ProjetoAutomaçaoWeb'), WindowsPath('C:/Users/mobishopgamer/Documents/Estudo/Hashtag/Python/Mentorias/AnaliseDeDados'), WindowsPath('C:/Users/mobishopgamer/Documents/Estudo/Hashtag/Python/Mentorias/API'), WindowsPath('C:/Users/mobishopgamer/Documents/Estudo/Hashtag/Python/Mentorias/PDF'), WindowsPath('C:/Users/mobishopgamer/Documents/Estudo/Hashtag/Python/Mentorias/XML-e-Notas-Fiscais')]\n",
      "--------------------------------------------------\n",
      "['Apostila Python Impressionador.pdf', 'Dicionario01.ipynb', 'Dicionario02.ipynb', 'Dicionario03.ipynb', 'Dicionario04.ipynb', 'Dicionario05.ipynb', 'Dicionario06.ipynb', 'Dicionários-Cartilha.ipynb', 'For.ipynb', 'For01.ipynb', 'For02.ipynb', 'For03.ipynb', 'For04.ipynb', 'For05.ipynb', 'Function-Cartilhas Erros.ipynb', 'Function01.ipynb', 'Function02.ipynb', 'Function03.ipynb', 'Function04.ipynb', 'Function06.ipynb', 'Function07.ipynb', 'Function08.ipynb', 'Function09.ipynb', 'Function10.ipynb', 'Function11.ipynb', 'Function12.ipynb', 'Iterable.ipynb', 'Lista - Cartilha de Métodos.ipynb', 'Listas.ipynb', 'Listas01.ipynb', 'Listas02.ipynb', 'Listas03.ipynb', 'Listas04.ipynb', 'Listas05.ipynb', 'Listas06.ipynb', 'Listas07.ipynb', 'Mentoria-Copy1.ipynb', 'Range.ipynb', 'Set-Cartilha.ipynb', 'Set.ipynb', 'String 1 - Aula Fórmulas de Texto.ipynb', 'String 2 - Formatar.ipynb', 'Tupla03.ipynb', 'Tuplas01.ipynb', 'Tuplas02.ipynb', 'While01.ipynb', 'While02.ipynb', 'CursoEmVideo', 'Web - Selenium 08.ipynb', 'Web - Selenium 09.ipynb', 'OrientaçãoObjetos04.ipynb', 'OrientaçãoObjetos05.ipynb', 'OrientaçãoObjetos06.ipynb', 'OrientaçãoObjetos.ipynb', 'OrientaçãoObjetos01.ipynb', 'OrientaçãoObjetos02.ipynb', 'OrientaçãoObjetos03.ipynb', 'ListComprehensions-FunctionsEmIterables02.ipynb', 'ListComprehensions-FunctionsEmIterables03.ipynb', 'ListComprehensions-FunctionsEmIterables04.ipynb', 'ListComprehensions-FunctionsEmIterables05.ipynb', 'ListComprehensions-FunctionsEmIterables01.ipynb', 'ListComprehensions-FunctionsEmIterables06.ipynb', 'teste.py', 'ListComprehensions-FunctionsEmIterables07.ipynb', 'LambdaExpressions.ipynb', 'LambdaExpressions 01.ipynb', 'LambdaExpressions 02.ipynb', 'Pandas 01.ipynb', 'Pandas 03.ipynb', 'Pandas 02.ipynb', 'Pandas 04.ipynb', 'Pandas 05.ipynb', 'Pandas 06.ipynb', 'Pandas 07.ipynb', 'Pandas 10.ipynb', 'Openpyxl.ipynb', 'Pandas 09.ipynb', 'Pandas 08.ipynb', 'Web - Selenium 04.ipynb', 'Web - Selenium 05.ipynb', 'Web - Selenium 02.ipynb', 'Web - Selenium 01.ipynb', 'Web - Selenium 03.ipynb', 'Web - Selenium 06.ipynb', 'Web - Selenium 07.ipynb', 'Email - Outlook.ipynb', 'Pathlib - Arquivos do Computador 01.ipynb', 'txt e with 01.ipynb', 'ArquivosAulas', 'Ex001-PrintInput', 'Ex002-Aritimetica', 'Ex003-Condiçoes', 'Ex004-Strings', 'Ex005-Listas', 'Ex006-For', 'Ex007-While', 'Ex008-Tupla', 'Ex009-Dicionario', 'Ex010-Function', 'Ex011-ListComprehension', 'Ex012-Pandas', 'Ex-Mentoria01', 'Ex-Mentoria02', 'Ex012-Selenium', 'Ex013-Pathlib', 'Ex014-Email', 'codigo-em-sistema', 'PDF', 'XML-e-Notas-Fiscais', '.vscode', 'AnaliseDeDados', 'Automaçao', 'AutomaçaoWeb', 'CienciaDeDados', 'ProjetoAnaliseDeDados', 'ProjetoAutomaçao', 'ProjetoAutomaçaoWeb', 'rua17', 'rua28', 'rua35 - Correias', 'AlterarCadastro', 'rua05 - ChicotesTC', 'AlocarNoSistema', '.git', 'rua31', 'EmailProgramado', 'MercadoFinanceiro', 'teste.html']\n",
      "--------------------------------------------------\n"
     ]
    }
   ],
   "source": [
    "from pathlib import Path # interagir com arquivos do pc\n",
    "import shutil as sh # copiar arquivos e diretórios por completo\n",
    "\n",
    "# ATUALIZANDO PASTA PYTHON\n",
    "\n",
    "# Selecionando pasta Python do pc e do pen drive\n",
    "file_py_pc = Path(r'C:\\Users\\mobishopgamer\\Documents\\Estudo\\Hashtag\\Python')\n",
    "file_py_pd = Path(r'D:\\Python')\n",
    "\n",
    "# lista de caminhos dos arquivos da pasta Python no pc\n",
    "list01_pc = [file for file in file_py_pc.iterdir()]\n",
    "# lista com caminho e nome dos arquivos da pasta Python no pen drive\n",
    "list01_pd = [file for file in file_py_pd.iterdir()]\n",
    "list01_pd_name = [file.name for file in file_py_pd.iterdir()]\n",
    "\n",
    "list02_pc = []\n",
    "list02_pd_name = []\n",
    "\n",
    "# Percorrendo arquivos no pc\n",
    "for archive in list01_pc:\n",
    "    # se o arquivo do pc não existir no pen drive:\n",
    "    if not archive.name in list01_pd_name:\n",
    "        # criar cópia do diretório inteiro para o pen drive\n",
    "        sh.copytree(archive, rf'D:\\Python\\{archive.name}')\n",
    "\n",
    "    list02_pc_add = [list02_pc.append(file) for file in archive.iterdir() if file.is_dir() or file.is_file()]\n",
    "\n",
    "print(list02_pc)\n",
    "print('-'*50)\n",
    "\n",
    "for archive_pd in list01_pd:\n",
    "    list02_pd_name_add = [list02_pd_name.append(file.name) for file in archive_pd.iterdir() if file.is_dir() or file.is_file()]\n",
    "\n",
    "print(list02_pd_name)\n",
    "print('-'*50)\n",
    "\n",
    "list_arquivos = []\n",
    "for archive in list02_pc:\n",
    "    if not archive.name in list02_pd_name:\n",
    "        list_arquivos.append(str(archive))\n",
    "        if 'Aulas' in list_arquivos:\n",
    "            print(list_arquivos)\n"
   ]
  },
  {
   "cell_type": "code",
   "execution_count": 33,
   "metadata": {},
   "outputs": [
    {
     "name": "stdout",
     "output_type": "stream",
     "text": [
      "89\n"
     ]
    }
   ],
   "source": [
    "# teste = Path(r'C:\\Users\\mobishopgamer\\Documents\\Estudo\\Hashtag\\Python')\n",
    "\n",
    "# list_teste = [arquivo.name for arquivo in teste.glob('**/*')]\n",
    "# print(list_teste)\n",
    "\n",
    "for i, item in enumerate(list02_pd_name):\n",
    "    if item == 'ArquivosAulas':\n",
    "        print(i)"
   ]
  }
 ],
 "metadata": {
  "kernelspec": {
   "display_name": "Python 3",
   "language": "python",
   "name": "python3"
  },
  "language_info": {
   "codemirror_mode": {
    "name": "ipython",
    "version": 3
   },
   "file_extension": ".py",
   "mimetype": "text/x-python",
   "name": "python",
   "nbconvert_exporter": "python",
   "pygments_lexer": "ipython3",
   "version": "3.11.1"
  },
  "orig_nbformat": 4
 },
 "nbformat": 4,
 "nbformat_minor": 2
}
