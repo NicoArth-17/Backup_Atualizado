{
 "cells": [
  {
   "cell_type": "code",
   "execution_count": 7,
   "metadata": {},
   "outputs": [
    {
     "name": "stdout",
     "output_type": "stream",
     "text": [
      "['Apostilas', 'Aulas', 'AulasAplicaçoes', 'Exercicios', 'IntensivãoPython', 'Mentorias']\n"
     ]
    }
   ],
   "source": [
    "from pathlib import Path\n",
    "\n",
    "# ATUALIZANDO PASTA PYTHON\n",
    "\n",
    "# Selecionando pasta Python do pc e do pen drive\n",
    "file_py_pc = Path(r'C:\\Users\\mobishopgamer\\Documents\\Estudo\\Hashtag\\Python')\n",
    "file_py_pd = Path(r'D:\\Python')\n",
    "\n",
    "list01_pc = [file.name for file in file_py_pc.iterdir()]\n",
    "list01_pd = [file.name for file in file_py_pd.iterdir()]\n",
    "\n",
    "for FileName in list01_pc:\n",
    "    if not FileName in list01_pd:\n"
   ]
  }
 ],
 "metadata": {
  "kernelspec": {
   "display_name": "Python 3",
   "language": "python",
   "name": "python3"
  },
  "language_info": {
   "codemirror_mode": {
    "name": "ipython",
    "version": 3
   },
   "file_extension": ".py",
   "mimetype": "text/x-python",
   "name": "python",
   "nbconvert_exporter": "python",
   "pygments_lexer": "ipython3",
   "version": "3.11.1"
  },
  "orig_nbformat": 4
 },
 "nbformat": 4,
 "nbformat_minor": 2
}
