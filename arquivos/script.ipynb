{
 "cells": [
  {
   "cell_type": "code",
   "execution_count": 7,
   "metadata": {},
   "outputs": [
    {
     "ename": "NotADirectoryError",
     "evalue": "[WinError 267] O nome do diretório é inválido: 'C:\\\\Users\\\\mobishopgamer\\\\Documents\\\\Estudo\\\\Hashtag\\\\Python\\\\Aulas\\\\ArquivosAulas\\\\Novo Vendas dict.csv'",
     "output_type": "error",
     "traceback": [
      "\u001b[1;31m---------------------------------------------------------------------------\u001b[0m",
      "\u001b[1;31mNotADirectoryError\u001b[0m                        Traceback (most recent call last)",
      "Cell \u001b[1;32mIn[7], line 51\u001b[0m\n\u001b[0;32m     49\u001b[0m         sh\u001b[39m.\u001b[39mcopy(new_item, \u001b[39mrf\u001b[39m\u001b[39m'\u001b[39m\u001b[39mD:\u001b[39m\u001b[39m\\\u001b[39m\u001b[39mPython\u001b[39m\u001b[39m\\\u001b[39m\u001b[39m{\u001b[39;00marchive\u001b[39m.\u001b[39mname\u001b[39m}\u001b[39;00m\u001b[39m\\\u001b[39m\u001b[39m{\u001b[39;00mitem\u001b[39m.\u001b[39mname\u001b[39m}\u001b[39;00m\u001b[39m\\\u001b[39m\u001b[39m{\u001b[39;00mnew_item\u001b[39m.\u001b[39mname\u001b[39m}\u001b[39;00m\u001b[39m'\u001b[39m)\n\u001b[0;32m     50\u001b[0m     \u001b[39melif\u001b[39;00m item\u001b[39m.\u001b[39mis_dir():\n\u001b[1;32m---> 51\u001b[0m         sh\u001b[39m.\u001b[39;49mcopytree(new_item, \u001b[39mrf\u001b[39;49m\u001b[39m'\u001b[39;49m\u001b[39mD:\u001b[39;49m\u001b[39m\\\u001b[39;49m\u001b[39mPython\u001b[39;49m\u001b[39m\\\u001b[39;49m\u001b[39m{\u001b[39;49;00marchive\u001b[39m.\u001b[39;49mname\u001b[39m}\u001b[39;49;00m\u001b[39m\\\u001b[39;49m\u001b[39m{\u001b[39;49;00mitem\u001b[39m.\u001b[39;49mname\u001b[39m}\u001b[39;49;00m\u001b[39m\\\u001b[39;49m\u001b[39m{\u001b[39;49;00mnew_item\u001b[39m.\u001b[39;49mname\u001b[39m}\u001b[39;49;00m\u001b[39m'\u001b[39;49m)\n\u001b[0;32m     53\u001b[0m \u001b[39m# sh.rmtree(r'D:\\Python\\Aulas\\ArquivosAulas')\u001b[39;00m\n\u001b[0;32m     54\u001b[0m \u001b[39m# sh.copytree(item, r'D:\\Python\\Aulas\\ArquivosAulas')\u001b[39;00m\n",
      "File \u001b[1;32mc:\\Users\\mobishopgamer\\AppData\\Local\\Programs\\Python\\Python311\\Lib\\shutil.py:559\u001b[0m, in \u001b[0;36mcopytree\u001b[1;34m(src, dst, symlinks, ignore, copy_function, ignore_dangling_symlinks, dirs_exist_ok)\u001b[0m\n\u001b[0;32m    520\u001b[0m \u001b[39m\u001b[39m\u001b[39m\"\"\"Recursively copy a directory tree and return the destination directory.\u001b[39;00m\n\u001b[0;32m    521\u001b[0m \n\u001b[0;32m    522\u001b[0m \u001b[39mIf exception(s) occur, an Error is raised with a list of reasons.\u001b[39;00m\n\u001b[1;32m   (...)\u001b[0m\n\u001b[0;32m    556\u001b[0m \u001b[39m`src` tree.\u001b[39;00m\n\u001b[0;32m    557\u001b[0m \u001b[39m\"\"\"\u001b[39;00m\n\u001b[0;32m    558\u001b[0m sys\u001b[39m.\u001b[39maudit(\u001b[39m\"\u001b[39m\u001b[39mshutil.copytree\u001b[39m\u001b[39m\"\u001b[39m, src, dst)\n\u001b[1;32m--> 559\u001b[0m \u001b[39mwith\u001b[39;00m os\u001b[39m.\u001b[39mscandir(src) \u001b[39mas\u001b[39;00m itr:\n\u001b[0;32m    560\u001b[0m     entries \u001b[39m=\u001b[39m \u001b[39mlist\u001b[39m(itr)\n\u001b[0;32m    561\u001b[0m \u001b[39mreturn\u001b[39;00m _copytree(entries\u001b[39m=\u001b[39mentries, src\u001b[39m=\u001b[39msrc, dst\u001b[39m=\u001b[39mdst, symlinks\u001b[39m=\u001b[39msymlinks,\n\u001b[0;32m    562\u001b[0m                  ignore\u001b[39m=\u001b[39mignore, copy_function\u001b[39m=\u001b[39mcopy_function,\n\u001b[0;32m    563\u001b[0m                  ignore_dangling_symlinks\u001b[39m=\u001b[39mignore_dangling_symlinks,\n\u001b[0;32m    564\u001b[0m                  dirs_exist_ok\u001b[39m=\u001b[39mdirs_exist_ok)\n",
      "\u001b[1;31mNotADirectoryError\u001b[0m: [WinError 267] O nome do diretório é inválido: 'C:\\\\Users\\\\mobishopgamer\\\\Documents\\\\Estudo\\\\Hashtag\\\\Python\\\\Aulas\\\\ArquivosAulas\\\\Novo Vendas dict.csv'"
     ]
    }
   ],
   "source": [
    "from pathlib import Path # interagir com arquivos do pc\n",
    "import shutil as sh # copiar arquivos e diretórios por completo\n",
    "\n",
    "# ATUALIZANDO PASTA PYTHON\n",
    "\n",
    "# Selecionando pasta Python do pc e do pen drive\n",
    "file_py_pc = Path(r'C:\\Users\\mobishopgamer\\Documents\\Estudo\\Hashtag\\Python')\n",
    "file_py_pd = Path(r'D:\\Python')\n",
    "\n",
    "# lista de caminhos dos arquivos da pasta Python no pc\n",
    "list01_pc = [file for file in file_py_pc.iterdir()]\n",
    "# lista com caminho e nome dos arquivos da pasta Python no pen drive\n",
    "list01_pd = [file for file in file_py_pd.iterdir()]\n",
    "list01_pd_name = [file.name for file in file_py_pd.iterdir()]\n",
    "\n",
    "list02_pd_name = []\n",
    "\n",
    "list_teste_pc = []\n",
    "\n",
    "for archive_pd in list01_pd:\n",
    "    list02_pd_name_add = [list02_pd_name.append(file.name) for file in archive_pd.iterdir() if file.is_dir() or file.is_file()]\n",
    "\n",
    "# Percorrendo arquivos no pc\n",
    "for archive in list01_pc:\n",
    "    # se o arquivo do pc não existir no pen drive:\n",
    "    if not archive.name in list01_pd_name:\n",
    "        # criar cópia do diretório inteiro para o pen drive\n",
    "        sh.copytree(archive, rf'D:\\Python\\{archive.name}')\n",
    "\n",
    "    list02_pc = [file for file in archive.iterdir() if file.is_dir() or file.is_file()]\n",
    "\n",
    "    # list_teste_pc_add = [list_teste_pc.append(file.name) for file in archive.iterdir() if file.is_dir() or file.is_file()]\n",
    "\n",
    "    arquivos_backup = [file_noexist for file_noexist in list02_pc if not file_noexist.name in list02_pd_name]\n",
    "\n",
    "    for item in list02_pc:\n",
    "        if item in arquivos_backup:\n",
    "            if item.is_file():\n",
    "                sh.copy(item, rf'D:\\Python\\{archive.name}\\{item.name}')\n",
    "            elif item.is_dir():\n",
    "                sh.copytree(item, rf'D:\\Python\\{archive.name}\\{item.name}')\n",
    "        elif item.name == 'ArquivosAulas':\n",
    "            qntd_arquivos_pc = [file for file in item.iterdir() if file.is_dir() or file.is_file()]\n",
    "            qntd_arquivos_pd = [file.name for file in Path(r'D:\\Python\\Aulas\\ArquivosAulas').iterdir() if file.is_dir() or file.is_file()]\n",
    "            if not len(qntd_arquivos_pc) == len(qntd_arquivos_pd):\n",
    "                for new_item in qntd_arquivos_pc:\n",
    "                    if not new_item.name in qntd_arquivos_pd:\n",
    "                        if item.is_file():\n",
    "                            sh.copy(new_item, rf'D:\\Python\\{archive.name}\\{item.name}\\{new_item.name}')\n",
    "                        elif item.is_dir():\n",
    "                            sh.copytree(new_item, rf'D:\\Python\\{archive.name}\\{item.name}\\{new_item.name}')\n",
    "\n",
    "                    # sh.rmtree(r'D:\\Python\\Aulas\\ArquivosAulas')\n",
    "                    # sh.copytree(item, r'D:\\Python\\Aulas\\ArquivosAulas')"
   ]
  },
  {
   "cell_type": "code",
   "execution_count": null,
   "metadata": {},
   "outputs": [],
   "source": []
  }
 ],
 "metadata": {
  "kernelspec": {
   "display_name": "Python 3",
   "language": "python",
   "name": "python3"
  },
  "language_info": {
   "codemirror_mode": {
    "name": "ipython",
    "version": 3
   },
   "file_extension": ".py",
   "mimetype": "text/x-python",
   "name": "python",
   "nbconvert_exporter": "python",
   "pygments_lexer": "ipython3",
   "version": "3.11.1"
  },
  "orig_nbformat": 4
 },
 "nbformat": 4,
 "nbformat_minor": 2
}
